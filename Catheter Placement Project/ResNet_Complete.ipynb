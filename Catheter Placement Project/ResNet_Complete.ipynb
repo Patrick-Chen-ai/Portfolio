{
 "cells": [
  {
   "cell_type": "code",
   "execution_count": null,
   "metadata": {
    "_cell_guid": "b1076dfc-b9ad-4769-8c92-a6c4dae69d19",
    "_uuid": "8f2839f25d086af736a60e9eeb907d3b93b6e0e5",
    "execution": {
     "iopub.execute_input": "2021-10-12T01:42:47.1745Z",
     "iopub.status.busy": "2021-10-12T01:42:47.173895Z",
     "iopub.status.idle": "2021-10-12T01:42:47.36244Z",
     "shell.execute_reply": "2021-10-12T01:42:47.361485Z",
     "shell.execute_reply.started": "2021-10-12T01:42:47.174456Z"
    }
   },
   "outputs": [],
   "source": [
    "import pandas as pd\n",
    "import numpy as np \n",
    "import os\n",
    "from numpy import asarray\n",
    "from matplotlib import image\n",
    "from matplotlib import pyplot\n",
    "import tensorflow \n",
    "\n",
    "from tensorflow.keras.utils import to_categorical\n",
    "from tensorflow.keras.models import Sequential\n",
    "from tensorflow.keras.layers import Dense, Dropout, Flatten, Conv2D, MaxPool2D,GlobalAveragePooling2D\n",
    "from tensorflow.keras.callbacks import EarlyStopping\n",
    "from tensorflow.keras.optimizers import SGD, Adam\n",
    "from tensorflow.keras.preprocessing.image import ImageDataGenerator\n",
    "from tensorflow.keras import applications\n",
    "from tensorflow.keras.models import Sequential,Model,load_model\n",
    "from sklearn.model_selection import train_test_split\n",
    "from tensorflow.keras.applications import ResNet50\n",
    "\n",
    "df = pd.read_csv('../input/ranzcr-clip-catheter-line-classification/train.csv', index_col=0)\n",
    "train_annotations = pd.read_csv('../input/ranzcr-clip-catheter-line-classification/train_annotations.csv', index_col=0)\n",
    "images = os.listdir('../input/ranzcr-clip-catheter-line-classification/train')\n",
    "seg_images = os.listdir('../input/annotated-segmented-images')\n",
    "\n",
    "# check that length of study uids in training dataframe matches length in image bucket\n",
    "assert len(set(images) - set([i+'.jpg' for i in df.index])) == 0"
   ]
  },
  {
   "cell_type": "code",
   "execution_count": null,
   "metadata": {
    "execution": {
     "iopub.execute_input": "2021-10-12T01:42:47.365373Z",
     "iopub.status.busy": "2021-10-12T01:42:47.364502Z",
     "iopub.status.idle": "2021-10-12T01:42:47.371485Z",
     "shell.execute_reply": "2021-10-12T01:42:47.370307Z",
     "shell.execute_reply.started": "2021-10-12T01:42:47.365325Z"
    }
   },
   "outputs": [],
   "source": [
    "all_labels = [\n",
    " 'ETT - Abnormal',\n",
    " 'ETT - Borderline',\n",
    " 'ETT - Normal',\n",
    " 'NGT - Abnormal',\n",
    " 'NGT - Borderline',\n",
    " 'NGT - Incompletely Imaged',\n",
    " 'NGT - Normal',\n",
    " 'CVC - Abnormal',\n",
    " 'CVC - Borderline',\n",
    " 'CVC - Normal',\n",
    " 'Swan Ganz Catheter Present']\n",
    "    "
   ]
  },
  {
   "cell_type": "code",
   "execution_count": null,
   "metadata": {
    "execution": {
     "iopub.execute_input": "2021-10-12T01:42:47.373262Z",
     "iopub.status.busy": "2021-10-12T01:42:47.372807Z",
     "iopub.status.idle": "2021-10-12T01:42:47.399418Z",
     "shell.execute_reply": "2021-10-12T01:42:47.398326Z",
     "shell.execute_reply.started": "2021-10-12T01:42:47.373228Z"
    }
   },
   "outputs": [],
   "source": [
    "df.index = [i +'.jpg' for i in df.index]\n",
    "df = df.reset_index()"
   ]
  },
  {
   "cell_type": "code",
   "execution_count": null,
   "metadata": {
    "execution": {
     "iopub.execute_input": "2021-10-12T01:42:47.401534Z",
     "iopub.status.busy": "2021-10-12T01:42:47.401097Z",
     "iopub.status.idle": "2021-10-12T01:42:47.41959Z",
     "shell.execute_reply": "2021-10-12T01:42:47.418309Z",
     "shell.execute_reply.started": "2021-10-12T01:42:47.401486Z"
    }
   },
   "outputs": [],
   "source": [
    "df.head()"
   ]
  },
  {
   "cell_type": "markdown",
   "metadata": {},
   "source": [
    "## Add Path As a Variable"
   ]
  },
  {
   "cell_type": "code",
   "execution_count": null,
   "metadata": {
    "execution": {
     "iopub.execute_input": "2021-10-12T01:42:47.422972Z",
     "iopub.status.busy": "2021-10-12T01:42:47.42255Z",
     "iopub.status.idle": "2021-10-12T01:42:47.431314Z",
     "shell.execute_reply": "2021-10-12T01:42:47.43042Z",
     "shell.execute_reply.started": "2021-10-12T01:42:47.422937Z"
    }
   },
   "outputs": [],
   "source": [
    "path = '../input/ranzcr-clip-catheter-line-classification/train'"
   ]
  },
  {
   "cell_type": "code",
   "execution_count": null,
   "metadata": {
    "execution": {
     "iopub.execute_input": "2021-10-12T01:42:47.43513Z",
     "iopub.status.busy": "2021-10-12T01:42:47.434542Z",
     "iopub.status.idle": "2021-10-12T01:42:47.466712Z",
     "shell.execute_reply": "2021-10-12T01:42:47.46563Z",
     "shell.execute_reply.started": "2021-10-12T01:42:47.435096Z"
    }
   },
   "outputs": [],
   "source": [
    "df['image'] = df['index'].map(lambda x: str(path+('/' + x)))"
   ]
  },
  {
   "cell_type": "code",
   "execution_count": null,
   "metadata": {
    "execution": {
     "iopub.execute_input": "2021-10-12T01:42:47.468247Z",
     "iopub.status.busy": "2021-10-12T01:42:47.467986Z",
     "iopub.status.idle": "2021-10-12T01:42:47.48663Z",
     "shell.execute_reply": "2021-10-12T01:42:47.485753Z",
     "shell.execute_reply.started": "2021-10-12T01:42:47.468215Z"
    }
   },
   "outputs": [],
   "source": [
    "df.head()"
   ]
  },
  {
   "cell_type": "markdown",
   "metadata": {},
   "source": [
    "## Train test Split"
   ]
  },
  {
   "cell_type": "code",
   "execution_count": null,
   "metadata": {
    "execution": {
     "iopub.execute_input": "2021-10-12T01:42:47.489198Z",
     "iopub.status.busy": "2021-10-12T01:42:47.488127Z",
     "iopub.status.idle": "2021-10-12T01:42:47.511756Z",
     "shell.execute_reply": "2021-10-12T01:42:47.510685Z",
     "shell.execute_reply.started": "2021-10-12T01:42:47.489141Z"
    }
   },
   "outputs": [],
   "source": [
    "X = df[\"image\"]\n",
    "y = df.drop([\"index\", \"PatientID\",'image'], axis = 1)\n",
    "X_train, X_test, y_train, y_test = train_test_split(X, y)"
   ]
  },
  {
   "cell_type": "code",
   "execution_count": null,
   "metadata": {
    "execution": {
     "iopub.execute_input": "2021-10-12T01:42:47.513827Z",
     "iopub.status.busy": "2021-10-12T01:42:47.51357Z",
     "iopub.status.idle": "2021-10-12T01:42:47.536824Z",
     "shell.execute_reply": "2021-10-12T01:42:47.53575Z",
     "shell.execute_reply.started": "2021-10-12T01:42:47.513796Z"
    }
   },
   "outputs": [],
   "source": [
    "X_train = pd.DataFrame(X_train)\n",
    "y_train = pd.DataFrame(y_train)\n",
    "X_test = pd.DataFrame(X_test)\n",
    "y_test = pd.DataFrame(y_test)\n",
    "\n",
    "train_df = pd.concat([X_train, y_train], axis=1)\n",
    "valid_df = pd.concat([X_test, y_test], axis=1)\n",
    "\n",
    "train_df.head()"
   ]
  },
  {
   "cell_type": "markdown",
   "metadata": {},
   "source": [
    "## Data Gen"
   ]
  },
  {
   "cell_type": "code",
   "execution_count": null,
   "metadata": {
    "execution": {
     "iopub.execute_input": "2021-10-12T01:42:47.538719Z",
     "iopub.status.busy": "2021-10-12T01:42:47.538482Z",
     "iopub.status.idle": "2021-10-12T01:42:57.146769Z",
     "shell.execute_reply": "2021-10-12T01:42:57.146019Z",
     "shell.execute_reply.started": "2021-10-12T01:42:47.53869Z"
    }
   },
   "outputs": [],
   "source": [
    "train_generator = ImageDataGenerator(\n",
    "    rescale = 1./255,\n",
    "    rotation_range=0.4,\n",
    "        horizontal_flip=True)\n",
    "\n",
    "train_datagen = train_generator.flow_from_dataframe(\n",
    "    dataframe=train_df,\n",
    "    x_col = 'image',\n",
    "    y_col = all_labels,\n",
    "    target_size=(224, 224),\n",
    "    batch_size = 16,\n",
    "    seed = 42,\n",
    "    class_mode = 'raw'\n",
    "                  )"
   ]
  },
  {
   "cell_type": "code",
   "execution_count": null,
   "metadata": {
    "execution": {
     "iopub.execute_input": "2021-10-12T01:42:57.14875Z",
     "iopub.status.busy": "2021-10-12T01:42:57.148209Z",
     "iopub.status.idle": "2021-10-12T01:43:00.267336Z",
     "shell.execute_reply": "2021-10-12T01:43:00.266306Z",
     "shell.execute_reply.started": "2021-10-12T01:42:57.148717Z"
    }
   },
   "outputs": [],
   "source": [
    "valid_generator = ImageDataGenerator(\n",
    "    rescale = 1./255,\n",
    "    rotation_range=0.4,\n",
    "        horizontal_flip=True)\n",
    "\n",
    "valid_datagen = valid_generator.flow_from_dataframe(\n",
    "    dataframe=valid_df,\n",
    "    x_col = 'image',\n",
    "    y_col = all_labels,\n",
    "    target_size=(224, 224),\n",
    "    batch_size = 16,\n",
    "    seed = 42,\n",
    "    class_mode = 'raw'\n",
    "                  )"
   ]
  },
  {
   "cell_type": "code",
   "execution_count": null,
   "metadata": {
    "execution": {
     "iopub.execute_input": "2021-10-12T01:43:00.269168Z",
     "iopub.status.busy": "2021-10-12T01:43:00.268857Z",
     "iopub.status.idle": "2021-10-12T01:43:00.277367Z",
     "shell.execute_reply": "2021-10-12T01:43:00.276522Z",
     "shell.execute_reply.started": "2021-10-12T01:43:00.269121Z"
    }
   },
   "outputs": [],
   "source": [
    "print (\"number of training examples = \" + str(X_train.shape[0]))\n",
    "print (\"number of test examples = \" + str(X_test.shape[0]))\n",
    "print (\"X_train shape: \" + str(X_train.shape))\n",
    "print (\"y_train shape: \" + str(y_train.shape))\n",
    "print (\"X_test shape: \" + str(X_test.shape))\n",
    "print (\"y_test shape: \" + str(y_test.shape))"
   ]
  },
  {
   "cell_type": "code",
   "execution_count": null,
   "metadata": {
    "execution": {
     "iopub.execute_input": "2021-10-12T01:43:00.279605Z",
     "iopub.status.busy": "2021-10-12T01:43:00.279046Z",
     "iopub.status.idle": "2021-10-12T01:43:02.788925Z",
     "shell.execute_reply": "2021-10-12T01:43:02.787841Z",
     "shell.execute_reply.started": "2021-10-12T01:43:00.279571Z"
    }
   },
   "outputs": [],
   "source": [
    "img_height,img_width = 224,224 \n",
    "num_classes = 11\n",
    "resnet=ResNet50(input_shape=[224,224,3],weights='imagenet',include_top=False)\n",
    "resnet.trainable = False"
   ]
  },
  {
   "cell_type": "code",
   "execution_count": null,
   "metadata": {
    "execution": {
     "iopub.execute_input": "2021-10-12T01:44:29.8392Z",
     "iopub.status.busy": "2021-10-12T01:44:29.838874Z",
     "iopub.status.idle": "2021-10-12T01:44:30.374968Z",
     "shell.execute_reply": "2021-10-12T01:44:30.374073Z",
     "shell.execute_reply.started": "2021-10-12T01:44:29.839168Z"
    }
   },
   "outputs": [],
   "source": [
    "inputs = resnet.inputs\n",
    "x = resnet(inputs)\n",
    "\n",
    "x = tensorflow.keras.layers.GlobalAveragePooling2D()(x)\n",
    "outputs = tensorflow.keras.layers.Dense(len(all_labels), activation='sigmoid')(x)\n",
    "model = tensorflow.keras.Model(inputs, outputs)\n",
    "\n",
    "model.summary()"
   ]
  },
  {
   "cell_type": "code",
   "execution_count": null,
   "metadata": {
    "execution": {
     "iopub.execute_input": "2021-10-12T01:47:29.631808Z",
     "iopub.status.busy": "2021-10-12T01:47:29.631275Z",
     "iopub.status.idle": "2021-10-12T01:47:29.648702Z",
     "shell.execute_reply": "2021-10-12T01:47:29.64785Z",
     "shell.execute_reply.started": "2021-10-12T01:47:29.631774Z"
    }
   },
   "outputs": [],
   "source": [
    "model.compile(optimizer=tensorflow.keras.optimizers.Adam(lr=0.001),loss='categorical_crossentropy',metrics=['accuracy'])"
   ]
  },
  {
   "cell_type": "code",
   "execution_count": null,
   "metadata": {
    "execution": {
     "iopub.execute_input": "2021-10-12T01:47:32.113977Z",
     "iopub.status.busy": "2021-10-12T01:47:32.113459Z",
     "iopub.status.idle": "2021-10-12T02:33:12.844406Z",
     "shell.execute_reply": "2021-10-12T02:33:12.842625Z",
     "shell.execute_reply.started": "2021-10-12T01:47:32.113942Z"
    }
   },
   "outputs": [],
   "source": [
    "history = model.fit_generator(train_datagen,validation_data = valid_datagen,epochs = 20, verbose = 1)"
   ]
  }
 ],
 "metadata": {
  "kernelspec": {
   "display_name": "Python 3",
   "language": "python",
   "name": "python3"
  },
  "language_info": {
   "codemirror_mode": {
    "name": "ipython",
    "version": 3
   },
   "file_extension": ".py",
   "mimetype": "text/x-python",
   "name": "python",
   "nbconvert_exporter": "python",
   "pygments_lexer": "ipython3",
   "version": "3.7.6"
  }
 },
 "nbformat": 4,
 "nbformat_minor": 4
}
